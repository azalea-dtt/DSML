{
 "cells": [
  {
   "cell_type": "code",
   "execution_count": null,
   "id": "d0eb4f16-5a99-460d-a5ba-706b7ef0bbe7",
   "metadata": {
    "id": "bA5ajAmk7XH6"
   },
   "outputs": [],
   "source": [
    "import matplotlib.image as img\n",
    "import pandas as pd\n",
    "import matplotlib.pyplot as plt\n",
    "import seaborn as sns\n",
    "from scipy.cluster.vq import kmeans, vq,whiten\n"
   ]
  },
  {
   "cell_type": "code",
   "execution_count": null,
   "id": "f905478f-7f8c-42cd-a293-dc93da631b3b",
   "metadata": {},
   "outputs": [
    {
     "name": "stdout",
     "output_type": "stream",
     "text": [
      "(225, 225, 3)\n"
     ]
    }
   ],
   "source": [
    "# load file and print the dimension\n",
    "cat_image = img.imread('cat3.jpg')\n",
    "print(cat_image.shape)"
   ]
  },
  {
   "cell_type": "code",
   "execution_count": null,
   "id": "e33a3c2a-1d24-4b4e-bb7c-d467b9c51d9d",
   "metadata": {},
   "outputs": [],
   "source": [
    "# store RGB values in lists r,g,b:\n",
    "r=[]\n",
    "g=[]\n",
    "b=[]\n",
    "for row in cat_image:\n",
    "    for temp_r, temp_g, temp_b in row:\n",
    "        r.append(temp_r)\n",
    "        g.append(temp_g)\n",
    "        b.append(temp_b)"
   ]
  },
  {
   "cell_type": "code",
   "execution_count": null,
   "id": "83b27a0c-a535-4ec9-953f-a7360170ccba",
   "metadata": {},
   "outputs": [
    {
     "name": "stdout",
     "output_type": "stream",
     "text": [
      "   Red  Green  Blue  red_scaled  green_scaled  blue_scaled\n",
      "0    0    140   193         0.0      3.608863     5.316996\n",
      "1    0    140   193         0.0      3.608863     5.316996\n",
      "2    0    140   193         0.0      3.608863     5.316996\n",
      "3    0    140   193         0.0      3.608863     5.316996\n",
      "4    0    140   193         0.0      3.608863     5.316996\n"
     ]
    }
   ],
   "source": [
    "# Make a dataframe for RGB and scaled the values\n",
    "list_of_tuples = list(zip(r,g,b))\n",
    "cat_df = pd.DataFrame(list_of_tuples,columns=['Red','Green','Blue'])\n",
    "# Use whiten function to scale the data\n",
    "cat_df['red_scaled'] = whiten(cat_df['Red'])\n",
    "cat_df['green_scaled'] = whiten(cat_df['Green'])\n",
    "cat_df['blue_scaled'] = whiten(cat_df['Blue'])\n",
    "\n",
    "print(cat_df[:5])"
   ]
  },
  {
   "cell_type": "code",
   "execution_count": null,
   "id": "d5a0f1a0-6774-449d-bbc3-ab84e9606a33",
   "metadata": {},
   "outputs": [
    {
     "data": {
      "image/png": "[encoded data removed]",
      "text/plain": [
       "<Figure size 432x288 with 1 Axes>"
      ]
     },
     "metadata": {
      "needs_background": "light"
     },
     "output_type": "display_data"
    }
   ],
   "source": [
    "# Kmeans with elbow method\n",
    "distortions = []\n",
    "num_clusters = (1,7)\n",
    "for i in num_clusters:\n",
    "    cluster_centers, distortion = kmeans(cat_df[['red_scaled','green_scaled','blue_scaled']],i)\n",
    "    distortions.append(distortion)\n",
    "\n",
    "# Create a DataFrame with two lists, num_clusters and distortions\n",
    "elbow_plot = pd.DataFrame({'num_clusters':num_clusters, 'distortions':distortions})\n",
    "\n",
    "# Create a line plot of num_clusters and distortions\n",
    "sns.lineplot(x='num_clusters', y='distortions', data = elbow_plot)\n",
    "plt.xticks(num_clusters)\n",
    "plt.show()"
   ]
  },
  {
   "cell_type": "code",
   "execution_count": null,
   "id": "e61395fb-e2f7-4e5a-bb0d-efb03dad699e",
   "metadata": {},
   "outputs": [
    {
     "data": {
      "image/png": "[encoded data removed]",
      "text/plain": [
       "<Figure size 432x288 with 1 Axes>"
      ]
     },
     "metadata": {
      "needs_background": "light"
     },
     "output_type": "display_data"
    }
   ],
   "source": [
    "# Get standard deviation of each color\n",
    "r_std, g_std, b_std = cat_df[['Red','Green','Blue']].std()\n",
    "colors=[]\n",
    "for cluster_center in cluster_centers:\n",
    "    scaled_r, scaled_g, scaled_b = cluster_center\n",
    "    # Convert each standardized value to scaled value\n",
    "    colors.append((\n",
    "        scaled_r * r_std / 255,\n",
    "        scaled_g * g_std / 255,\n",
    "        scaled_b * b_std / 255\n",
    "    ))\n",
    "# Display colors of cluster centers\n",
    "plt.imshow([colors])\n",
    "plt.show()"
   ]
  }
 ],
 "metadata": {
  "colab": {
   "name": "Welcome to DataCamp Workspaces.ipynb",
   "provenance": []
  },
  "kernelspec": {
   "display_name": "Python 3 (ipykernel)",
   "language": "python",
   "name": "python3"
  },
  "language_info": {
   "codemirror_mode": {
    "name": "ipython",
    "version": 3
   },
   "file_extension": ".py",
   "mimetype": "text/x-python",
   "name": "python",
   "nbconvert_exporter": "python",
   "pygments_lexer": "ipython3",
   "version": "3.8.10"
  }
 },
 "nbformat": 4,
 "nbformat_minor": 5
}
